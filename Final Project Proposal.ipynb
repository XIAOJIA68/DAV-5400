{
 "cells": [
  {
   "cell_type": "markdown",
   "metadata": {},
   "source": [
    "# Introduction\n",
    "this is a reasarch about the data of income and consumption in New York. NY is one of the most prosperous citiesin the world, which is a dream place for people. So are you interested in the income and expenditure in NY? this is a data reasarch for us to explore the range of personal income in NY, the different income between different jobs and the job which has the highest avarage salary, and we can know the difference of income between male and female. for the consumption, we are interested in the total living expenditure in New York such as the house, transportation, daily meal expense. and get the final result for the  life of living in New York."
   ]
  },
  {
   "cell_type": "markdown",
   "metadata": {},
   "source": [
    "# Research Questions\n",
    "Income:\n",
    "1. what is the average personal income per year in New York?\n",
    "2. what kind of job has the highest average salary in New York?\n",
    "3. what kind of information can we get from the difference of income between male and female?\n",
    "\n",
    "Consumption:\n",
    "1. what is the average living expenditure per year in New York?\n",
    "2. how much people usually spend in  house, transportation and meal?\n",
    "3. what is the relationship between expenses and location?"
   ]
  },
  {
   "cell_type": "code",
   "execution_count": null,
   "metadata": {},
   "outputs": [],
   "source": []
  },
  {
   "cell_type": "code",
   "execution_count": null,
   "metadata": {},
   "outputs": [],
   "source": []
  }
 ],
 "metadata": {
  "kernelspec": {
   "display_name": "Python 3",
   "language": "python",
   "name": "python3"
  },
  "language_info": {
   "codemirror_mode": {
    "name": "ipython",
    "version": 3
   },
   "file_extension": ".py",
   "mimetype": "text/x-python",
   "name": "python",
   "nbconvert_exporter": "python",
   "pygments_lexer": "ipython3",
   "version": "3.7.3"
  }
 },
 "nbformat": 4,
 "nbformat_minor": 2
}
