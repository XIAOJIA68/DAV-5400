{
 "cells": [
  {
   "cell_type": "code",
   "execution_count": 5,
   "metadata": {},
   "outputs": [],
   "source": [
    "# load pandas\n",
    "# load the urllib.request module\n",
    "# import the json library\n",
    "import json\n",
    "import pandas as pd\n",
    "import urllib.request\n",
    "import requests"
   ]
  },
  {
   "cell_type": "code",
   "execution_count": 9,
   "metadata": {},
   "outputs": [
    {
     "data": {
      "text/html": [
       "<div>\n",
       "<style scoped>\n",
       "    .dataframe tbody tr th:only-of-type {\n",
       "        vertical-align: middle;\n",
       "    }\n",
       "\n",
       "    .dataframe tbody tr th {\n",
       "        vertical-align: top;\n",
       "    }\n",
       "\n",
       "    .dataframe thead th {\n",
       "        text-align: right;\n",
       "    }\n",
       "</style>\n",
       "<table border=\"1\" class=\"dataframe\">\n",
       "  <thead>\n",
       "    <tr style=\"text-align: right;\">\n",
       "      <th></th>\n",
       "      <th>Title</th>\n",
       "      <th>Author</th>\n",
       "      <th>Publisher</th>\n",
       "      <th>Genres</th>\n",
       "      <th>Price</th>\n",
       "    </tr>\n",
       "  </thead>\n",
       "  <tbody>\n",
       "    <tr>\n",
       "      <th>0</th>\n",
       "      <td>The Control Freak</td>\n",
       "      <td>Les Parrott</td>\n",
       "      <td>Tyndale House</td>\n",
       "      <td>Beliefs</td>\n",
       "      <td>13.97</td>\n",
       "    </tr>\n",
       "  </tbody>\n",
       "</table>\n",
       "</div>"
      ],
      "text/plain": [
       "               Title       Author      Publisher   Genres  Price\n",
       "0  The Control Freak  Les Parrott  Tyndale House  Beliefs  13.97"
      ]
     },
     "execution_count": 9,
     "metadata": {},
     "output_type": "execute_result"
    }
   ],
   "source": [
    "# use pd.read_json() to convert JSON file into a Pandas dataframe\n",
    "# The function assumes each object in a JSON array is supposed to be a row within the Pandas data frame that it creates.\n",
    "book_json = pd.read_json(\"https://raw.githubusercontent.com/XIAOJIA68/DAV-5400/master/book.json\")\n",
    "book_json"
   ]
  },
  {
   "cell_type": "code",
   "execution_count": 17,
   "metadata": {},
   "outputs": [
    {
     "data": {
      "text/plain": [
       "[                      Title                         Author   Publisher  \\\n",
       " 0  Control the Conversation  Tyndale House,Maryann Karinch  Blackstone   \n",
       " \n",
       "    Genres  Price  \n",
       " 0  Growth  13.95  ]"
      ]
     },
     "execution_count": 17,
     "metadata": {},
     "output_type": "execute_result"
    }
   ],
   "source": [
    "# use BeautifulSoup library to extract data from HTML Github web page\n",
    "# read HTML file housed within Github repo\n",
    "tables = pd.read_html('https://raw.githubusercontent.com/XIAOJIA68/DAV-5400/master/book.html')\n",
    "tables"
   ]
  },
  {
   "cell_type": "code",
   "execution_count": 15,
   "metadata": {},
   "outputs": [
    {
     "data": {
      "text/plain": [
       "pandas.core.frame.DataFrame"
      ]
     },
     "execution_count": 15,
     "metadata": {},
     "output_type": "execute_result"
    }
   ],
   "source": [
    "# the first item (and in this case, the only item) in the list is a data frame\n",
    "book_html = tables[0]\n",
    "type(book_html)"
   ]
  },
  {
   "cell_type": "code",
   "execution_count": 16,
   "metadata": {},
   "outputs": [
    {
     "data": {
      "text/html": [
       "<div>\n",
       "<style scoped>\n",
       "    .dataframe tbody tr th:only-of-type {\n",
       "        vertical-align: middle;\n",
       "    }\n",
       "\n",
       "    .dataframe tbody tr th {\n",
       "        vertical-align: top;\n",
       "    }\n",
       "\n",
       "    .dataframe thead th {\n",
       "        text-align: right;\n",
       "    }\n",
       "</style>\n",
       "<table border=\"1\" class=\"dataframe\">\n",
       "  <thead>\n",
       "    <tr style=\"text-align: right;\">\n",
       "      <th></th>\n",
       "      <th>Title</th>\n",
       "      <th>Author</th>\n",
       "      <th>Publisher</th>\n",
       "      <th>Genres</th>\n",
       "      <th>Price</th>\n",
       "    </tr>\n",
       "  </thead>\n",
       "  <tbody>\n",
       "    <tr>\n",
       "      <th>0</th>\n",
       "      <td>Control the Conversation</td>\n",
       "      <td>Tyndale House,Maryann Karinch</td>\n",
       "      <td>Blackstone</td>\n",
       "      <td>Growth</td>\n",
       "      <td>13.95</td>\n",
       "    </tr>\n",
       "  </tbody>\n",
       "</table>\n",
       "</div>"
      ],
      "text/plain": [
       "                      Title                         Author   Publisher  \\\n",
       "0  Control the Conversation  Tyndale House,Maryann Karinch  Blackstone   \n",
       "\n",
       "   Genres  Price  \n",
       "0  Growth  13.95  "
      ]
     },
     "execution_count": 16,
     "metadata": {},
     "output_type": "execute_result"
    }
   ],
   "source": [
    "# get the data frame of book html\n",
    "book_html"
   ]
  },
  {
   "cell_type": "code",
   "execution_count": 112,
   "metadata": {},
   "outputs": [],
   "source": [
    "# import xml.etree.cElementTree as et\n",
    "# read and parse XMLfile\n",
    "# define a new function getvalueofnode(node) to return the text\n",
    "\n",
    "import xml.etree.cElementTree as et\n",
    "\n",
    "def getvalueofnode(node):\n",
    "    \"\"\" return node text or None \"\"\"\n",
    "    return node.text if node is not None else None"
   ]
  },
  {
   "cell_type": "code",
   "execution_count": 113,
   "metadata": {},
   "outputs": [
    {
     "name": "stdout",
     "output_type": "stream",
     "text": [
      "            Title      Author Publisher Genres            Price\n",
      "0  Volume Control  David Owen    Health  18.23  Riverhead Books\n"
     ]
    }
   ],
   "source": [
    "# use node.attrib.get() to get the key value k-v of the label inside \n",
    "# use node.find() to find the corresponding sub-label(node.find ())\n",
    "# text: return the corresponding content\n",
    "# parse the values in the xml to getroot()\n",
    "# call main() function\n",
    "\n",
    "def main():\n",
    "    \"\"\" main \"\"\"\n",
    "    parsed_xml = et.parse(\"F:/Analytics Programming/Assn-12/Book2.xml\")\n",
    "    dfcols = ['Title','Author','Publisher','Genres','Price']\n",
    "    df_xml = pd.DataFrame(columns=dfcols)\n",
    "\n",
    "    for node in parsed_xml.getroot():\n",
    "        Title = node.attrib.get('Title')\n",
    "        Author = node.find('Author')\n",
    "        Publisher = node.find('Publisher')\n",
    "        Genres = node.find('Genres')\n",
    "        Price = node.find('Price')\n",
    "\n",
    "        df_xml = df_xml.append(\n",
    "            pd.Series([Title, getvalueofnode(Author),getvalueofnode(Genres),getvalueofnode(Price),\n",
    "                       getvalueofnode(Publisher)], index=dfcols),\n",
    "            ignore_index=True)\n",
    "\n",
    "    print (df_xml)\n",
    "main()"
   ]
  },
  {
   "cell_type": "markdown",
   "metadata": {},
   "source": [
    "from the result above, we can see that the dataframe of these three files is similar, and both of them have the same dataframe format"
   ]
  },
  {
   "cell_type": "markdown",
   "metadata": {},
   "source": [
    "# Part2"
   ]
  },
  {
   "cell_type": "code",
   "execution_count": null,
   "metadata": {},
   "outputs": [],
   "source": []
  },
  {
   "cell_type": "code",
   "execution_count": 142,
   "metadata": {},
   "outputs": [
    {
     "data": {
      "text/plain": [
       "<Response [400]>"
      ]
     },
     "execution_count": 142,
     "metadata": {},
     "output_type": "execute_result"
    }
   ],
   "source": [
    "import requests\n",
    "url = 'https://api.nytimes.com/svc/books/v3/lists.json?api-key=lXhuc1z1y1t0AZmnm1JEu0HGUHBql88B'\n",
    "resp = requests.get(url)\n",
    "resp"
   ]
  },
  {
   "cell_type": "code",
   "execution_count": 138,
   "metadata": {},
   "outputs": [
    {
     "data": {
      "text/plain": [
       "dict"
      ]
     },
     "execution_count": 138,
     "metadata": {},
     "output_type": "execute_result"
    }
   ],
   "source": [
    "# now convert the 'resp' object's JSON content into a list of \n",
    "# native Python objects\n",
    "data = resp.json()\n",
    "type(data)\n"
   ]
  },
  {
   "cell_type": "code",
   "execution_count": 135,
   "metadata": {},
   "outputs": [
    {
     "data": {
      "text/plain": [
       "4"
      ]
     },
     "execution_count": 135,
     "metadata": {},
     "output_type": "execute_result"
    }
   ],
   "source": [
    "len(data)"
   ]
  },
  {
   "cell_type": "code",
   "execution_count": 136,
   "metadata": {},
   "outputs": [
    {
     "data": {
      "text/plain": [
       "{'status': 'ERROR',\n",
       " 'copyright': 'Copyright (c) 2019 The New York Times Company.  All Rights Reserved.',\n",
       " 'errors': ['No Parameters specified\\n', 'Bad Request'],\n",
       " 'results': []}"
      ]
     },
     "execution_count": 136,
     "metadata": {},
     "output_type": "execute_result"
    }
   ],
   "source": [
    "# view the content of that dict object\n",
    "data"
   ]
  },
  {
   "cell_type": "code",
   "execution_count": 96,
   "metadata": {},
   "outputs": [
    {
     "data": {
      "text/html": [
       "<div>\n",
       "<style scoped>\n",
       "    .dataframe tbody tr th:only-of-type {\n",
       "        vertical-align: middle;\n",
       "    }\n",
       "\n",
       "    .dataframe tbody tr th {\n",
       "        vertical-align: top;\n",
       "    }\n",
       "\n",
       "    .dataframe thead th {\n",
       "        text-align: right;\n",
       "    }\n",
       "</style>\n",
       "<table border=\"1\" class=\"dataframe\">\n",
       "  <thead>\n",
       "    <tr style=\"text-align: right;\">\n",
       "      <th></th>\n",
       "      <th>fault</th>\n",
       "      <th>detail</th>\n",
       "    </tr>\n",
       "  </thead>\n",
       "  <tbody>\n",
       "    <tr>\n",
       "      <th>detail</th>\n",
       "      <td>{'errorcode': 'oauth.v2.InvalidApiKey'}</td>\n",
       "      <td>NaN</td>\n",
       "    </tr>\n",
       "    <tr>\n",
       "      <th>faultstring</th>\n",
       "      <td>Invalid ApiKey</td>\n",
       "      <td>NaN</td>\n",
       "    </tr>\n",
       "  </tbody>\n",
       "</table>\n",
       "</div>"
      ],
      "text/plain": [
       "                                               fault detail\n",
       "detail       {'errorcode': 'oauth.v2.InvalidApiKey'}    NaN\n",
       "faultstring                           Invalid ApiKey    NaN"
      ]
     },
     "execution_count": 96,
     "metadata": {},
     "output_type": "execute_result"
    }
   ],
   "source": [
    "# now convert some of the extracted JSON data into a data frame: in this\n",
    "# example we are extracting the 'number', 'title', 'labels' and 'state'\n",
    "# components of the dict object\n",
    "issues = pd.DataFrame(data, columns=['fault', 'detail',\n",
    "                                     ])\n",
    "issues"
   ]
  },
  {
   "cell_type": "code",
   "execution_count": null,
   "metadata": {},
   "outputs": [],
   "source": []
  },
  {
   "cell_type": "code",
   "execution_count": null,
   "metadata": {},
   "outputs": [],
   "source": []
  }
 ],
 "metadata": {
  "kernelspec": {
   "display_name": "Python 3",
   "language": "python",
   "name": "python3"
  },
  "language_info": {
   "codemirror_mode": {
    "name": "ipython",
    "version": 3
   },
   "file_extension": ".py",
   "mimetype": "text/x-python",
   "name": "python",
   "nbconvert_exporter": "python",
   "pygments_lexer": "ipython3",
   "version": "3.7.3"
  }
 },
 "nbformat": 4,
 "nbformat_minor": 2
}
