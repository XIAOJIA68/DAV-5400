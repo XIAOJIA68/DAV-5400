{
 "cells": [
  {
   "cell_type": "markdown",
   "metadata": {},
   "source": [
    "### GRUOP MEMBERS: Gege Li, Xiaojia He\n",
    "\n",
    "### Final project proposal"
   ]
  },
  {
   "cell_type": "markdown",
   "metadata": {},
   "source": [
    "## Introduction\n",
    "\n",
    "*This section should provide some context for the basis of the research questions you plan to answer without actually describing the research questions themselves. For example, if your research questions are focused on a health related issue, you might provide a brief summary of how many people are affected by that issue each year either regionally, nationally or globally, including any infection rate or mortality statistics you were able to gather. Basically, in the Introduction you are trying to make the reader understand why the research questions you are going to propose are relevant and should be of interest to them.*\n",
    "\n",
    "This is a data research about the personal income and consumption in New York. NY is one of the most prosperous cities in the world, which is a dream place for people. So are you interested in the income and expenditure in NY? This data reasarch explore the range of personal income in NY, the different income between different jobs and which job has the highest avarage salary?And we can also know the difference of income between male and female. For the consumption, we are interested in the level of consumption, the total living expenditure in New York such as the house, transportation, daily meal expense. Finally, we get the information for the life in New York.\n",
    "\n"
   ]
  },
  {
   "cell_type": "markdown",
   "metadata": {},
   "source": [
    "## Research Questions\n",
    "\n",
    "*Provide a single succinct sentence that describes each of your research questions. Then provide a paragraph or two explaining how the results of your research might be used/implemented in the \"real world\".*\n",
    "\n",
    "Here is the summary of our reseatch questions:\n",
    "\n",
    "#### Income:\n",
    "* What is the average personal income each year in New York?\n",
    "* What kind of job has the highest average salary in New York?\n",
    "* What kind of information can we get from the difference of income between male and female?\n",
    "\n",
    "#### Consumption:\n",
    "1. what is the average living expenditure each year in New York?\n",
    "2. According to Engel's Law, what is the proportion of average food expenditure amount on average total expenditure amount?\n",
    "3. what is the proportion of average total expenditure amount on average total income amount?"
   ]
  },
  {
   "cell_type": "markdown",
   "metadata": {},
   "source": [
    "## Data to be Used\n",
    "\n",
    "*Clearly identify the sources of your data and explain the methods you will use to collect the data from those sources, e.g., \"Data from this source will be loaded into an SQL database..\" or \"Data will need to be collected from this source via scraping of a web page..\", etc.*"
   ]
  },
  {
   "cell_type": "markdown",
   "metadata": {},
   "source": [
    "## Approach\n",
    "\n",
    "*Explain how you plan to manage the data you are collecting: e.g., will you be storing it within some sort of database, etc.? Explain what types of statistical analysis you plan to utilize to help answer your research questions. Explain any graphics you plan to generate to help answer you research questions, e.g., \"..we will attempt to construct geoplots that will show how xxxxxx varies between counties within the state of Nevada..\", etc. The reader should come away with a clear understanding of how you plan to proceed with your work. Keep in mind that since this is a proposal, you need to be able to convince the reader that your proposed project is: a) realistic; and b) feasible within the time alloted for the project.*"
   ]
  },
  {
   "cell_type": "code",
   "execution_count": null,
   "metadata": {},
   "outputs": [],
   "source": []
  }
 ],
 "metadata": {
  "kernelspec": {
   "display_name": "Python 3",
   "language": "python",
   "name": "python3"
  },
  "language_info": {
   "codemirror_mode": {
    "name": "ipython",
    "version": 3
   },
   "file_extension": ".py",
   "mimetype": "text/x-python",
   "name": "python",
   "nbconvert_exporter": "python",
   "pygments_lexer": "ipython3",
   "version": "3.7.3"
  }
 },
 "nbformat": 4,
 "nbformat_minor": 2
}
