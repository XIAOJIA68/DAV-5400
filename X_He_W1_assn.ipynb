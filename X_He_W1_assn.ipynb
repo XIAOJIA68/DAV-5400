{
 "cells": [
  {
   "cell_type": "markdown",
   "metadata": {},
   "source": [
    "#A web link to your GitHub copy of the data set\n",
    "[link](https://github.com/XIAOJIA68/DAV-5400.git)"
   ]
  },
  {
   "cell_type": "markdown",
   "metadata": {},
   "source": [
    "#A link to the original location of the data\n",
    "[link](https://projects.fivethirtyeight.com/trump-approval-ratings/)"
   ]
  },
  {
   "cell_type": "markdown",
   "metadata": {},
   "source": [
    "# Short writeup explaining:\n",
    "\n",
    "what interests you in the data set?\n",
    "\n",
    "At first, I think the topic is very funny. Trump is always a popular person in our daily conversation and some of his policies may affect our life, so I’d like to analyze his approval rate. What’s more, I think this data set is really an excellent example to present data visualization. What I appreciate more is that it uses lots of icons to choose the information we want and avoids superfluous part, so the data set looks very straightforward. In addition, the movable line in the chart is very helpful to get the explicit value.\n",
    "\n",
    "how I might want to make use of it?\n",
    "\n",
    "At first, via this good data set to learn how to produce the efficient data visualization accumulate good examples.second,learn to learn to analyze the change trend and focus on the extremum.\n",
    " \n",
    "How they analyze the data and reduce the errors in this data set?\n",
    " \n",
    "Apply a “likely voter adjustment”. The likely voter adjustment is calculated first. We explain the likely voter adjustment more completely in a separate post, and compare the results when the same polling firm issues results for both registered and likely voters in the same survey.\n"
   ]
  },
  {
   "cell_type": "code",
   "execution_count": null,
   "metadata": {},
   "outputs": [],
   "source": []
  }
 ],
 "metadata": {
  "kernelspec": {
   "display_name": "Python 3",
   "language": "python",
   "name": "python3"
  },
  "language_info": {
   "codemirror_mode": {
    "name": "ipython",
    "version": 3
   },
   "file_extension": ".py",
   "mimetype": "text/x-python",
   "name": "python",
   "nbconvert_exporter": "python",
   "pygments_lexer": "ipython3",
   "version": "3.7.3"
  }
 },
 "nbformat": 4,
 "nbformat_minor": 2
}
