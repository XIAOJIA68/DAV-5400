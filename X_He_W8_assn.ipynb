{
 "cells": [
  {
   "cell_type": "code",
   "execution_count": 3,
   "metadata": {},
   "outputs": [],
   "source": [
    "import numpy as np\n",
    "import pandas as pd\n",
    "import re"
   ]
  },
  {
   "cell_type": "markdown",
   "metadata": {},
   "source": [
    "Question1: At first i introduce the string to a text, then use the regular express to extract the names store them in vector. "
   ]
  },
  {
   "cell_type": "code",
   "execution_count": 119,
   "metadata": {},
   "outputs": [
    {
     "data": {
      "text/plain": [
       "0             Moe Szyslak\n",
       "1    Burns, C. Montgomery\n",
       "2    Rev. Timothy Lovejoy\n",
       "3            Ned Flanders\n",
       "4          Simpson, Homer\n",
       "5      Dr. Julius Hibbert\n",
       "dtype: object"
      ]
     },
     "execution_count": 119,
     "metadata": {},
     "output_type": "execute_result"
    }
   ],
   "source": [
    "#Introduce string to text\n",
    "#Use findall to get the names of the text and store them in vector \n",
    "\n",
    "text = \"\"\"555-1239Moe Szyslak(636) 555-0113Burns, C. Montgomery555 -6542Rev. Timothy Lovejoy555\n",
    "8904Ned Flanders636-555-3226Simpson, Homer5553642Dr. Julius Hibbert\"\"\"\n",
    "\n",
    "pattern = r'[A-Za-z]+[\\s,\\.]+[A-Z\\.\\s]+[A-Za-z]+[\\s]*[A-Za-z]*'\n",
    "vector = re.findall(pattern, text)\n",
    "vector = pd.Series(vector)\n",
    "vector"
   ]
  },
  {
   "cell_type": "markdown",
   "metadata": {},
   "source": [
    "Question2-a: At first i need to use for loop to get the names that need to rearange in the vector list, then i need to split them. Finally, i use index to extract the first and last names separately in the list and combine them with order."
   ]
  },
  {
   "cell_type": "code",
   "execution_count": 120,
   "metadata": {},
   "outputs": [
    {
     "data": {
      "text/plain": [
       "0             Moe Szyslak\n",
       "1     C. Montgomery Burns\n",
       "2    Rev. Timothy Lovejoy\n",
       "3            Ned Flanders\n",
       "4           Homer Simpson\n",
       "5      Dr. Julius Hibbert\n",
       "dtype: object"
      ]
     },
     "execution_count": 120,
     "metadata": {},
     "output_type": "execute_result"
    }
   ],
   "source": [
    "# use for loop to get the names that need to rearange\n",
    "# use split to get the name that contains ', '\n",
    "# change the order and get the names\n",
    "for i in range(len(vector)):\n",
    "    if re.findall(',',vector[i]):\n",
    "        split_name = re.split(', ',vector[i])\n",
    "        vector[i] = split_name[1]+' '+split_name[0]\n",
    "vector"
   ]
  },
  {
   "cell_type": "markdown",
   "metadata": {},
   "source": [
    "Question2-b:For this question, i would use str.contains function of regex to show wthe logical vector. For the title, the regex is '[A-Z][a-z]+\\.'"
   ]
  },
  {
   "cell_type": "code",
   "execution_count": 121,
   "metadata": {},
   "outputs": [
    {
     "data": {
      "text/plain": [
       "0    False\n",
       "1    False\n",
       "2     True\n",
       "3    False\n",
       "4    False\n",
       "5     True\n",
       "dtype: bool"
      ]
     },
     "execution_count": 121,
     "metadata": {},
     "output_type": "execute_result"
    }
   ],
   "source": [
    "# use str.contains function to get the logical vector\n",
    "vector.str.contains('[A-Z][a-z]+\\.')"
   ]
  },
  {
   "cell_type": "markdown",
   "metadata": {},
   "source": [
    "Question2-c: If the name has a middlle name, the whole regex of the name should be '\\w+\\s\\w+\\s' or '[A-Z]\\.\\s\\w+\\s'. So we can use match function in the regex to indicate them."
   ]
  },
  {
   "cell_type": "code",
   "execution_count": 122,
   "metadata": {},
   "outputs": [
    {
     "data": {
      "text/plain": [
       "0    False\n",
       "1     True\n",
       "2    False\n",
       "3    False\n",
       "4    False\n",
       "5    False\n",
       "dtype: bool"
      ]
     },
     "execution_count": 122,
     "metadata": {},
     "output_type": "execute_result"
    }
   ],
   "source": [
    "# use match function to indicate the names\n",
    "vector.str.match('(\\w+\\s\\w+\\s)|([A-Z]\\.\\s\\w+\\s)')"
   ]
  },
  {
   "cell_type": "markdown",
   "metadata": {},
   "source": [
    "Question3: \n",
    "\n",
    "Form my opinion, it fials because \".\" in the regex \"<.+>\" can also represent the \"<\" and \">\", so for \".+\" in the regex \"<.+>\", it can also represent \"<<<<\" and \">>>>\". It's hard to distinguish the first character(\"<\") in the \"<.+>\" from the chanracter which \".+\" represents, so it may cause some errors.\n",
    "\n",
    "Correct anser: \n",
    "\n",
    "Add '?' to the regex \"<.+>\" and get \"<.+?>\". \"?\" in regex means match 0 or 1 repetitions of the preceding RE. So when the '?'match o repetition of the regex, '<.+?>' can match the first '<' and the first '>'. "
   ]
  },
  {
   "cell_type": "code",
   "execution_count": 124,
   "metadata": {},
   "outputs": [
    {
     "name": "stdout",
     "output_type": "stream",
     "text": [
      "<re.Match object; span=(0, 7), match='<title>'>\n"
     ]
    }
   ],
   "source": [
    "#Introduce the string and store it in HTML\n",
    "HTML = '<title>+++BREAKING NEWS+++<title>'\n",
    "\n",
    "#use match function to get the <title>\n",
    "print(re.match('<.+?>',HTML))\n"
   ]
  },
  {
   "cell_type": "markdown",
   "metadata": {},
   "source": [
    "Question4:\n",
    "\n",
    "It fials because the \"^\" in the [ ] has a different meaning which match all the characters except the character after \"^\". For example, [^5] will match any character except '5'. So in this question, \"[^0-9=\" is not corrected.\n",
    "\n",
    "corrected answer:\n",
    "\n",
    "we can use \"\\\\\" to match the original meaning of the character. For example, '\\\\^'  means '^' and '\\\\-' means '-'. "
   ]
  },
  {
   "cell_type": "code",
   "execution_count": 127,
   "metadata": {},
   "outputs": [
    {
     "name": "stdout",
     "output_type": "stream",
     "text": [
      "<re.Match object; span=(0, 21), match='(5-3)^2=5^2-2*5*3+3^2'>\n"
     ]
    }
   ],
   "source": [
    "# store the string\n",
    "string = '(5-3)^2=5^2-2*5*3+3^2'\n",
    "\n",
    "# use match to get the answer \n",
    "print(re.match('[\\^\\-0-9=+*()]+', string))"
   ]
  },
  {
   "cell_type": "code",
   "execution_count": null,
   "metadata": {},
   "outputs": [],
   "source": []
  }
 ],
 "metadata": {
  "kernelspec": {
   "display_name": "Python 3",
   "language": "python",
   "name": "python3"
  },
  "language_info": {
   "codemirror_mode": {
    "name": "ipython",
    "version": 3
   },
   "file_extension": ".py",
   "mimetype": "text/x-python",
   "name": "python",
   "nbconvert_exporter": "python",
   "pygments_lexer": "ipython3",
   "version": "3.7.3"
  }
 },
 "nbformat": 4,
 "nbformat_minor": 2
}
