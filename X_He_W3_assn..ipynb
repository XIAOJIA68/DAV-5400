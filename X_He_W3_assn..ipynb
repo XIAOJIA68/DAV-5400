{
 "cells": [
  {
   "cell_type": "code",
   "execution_count": 2,
   "metadata": {},
   "outputs": [
    {
     "name": "stdout",
     "output_type": "stream",
     "text": [
      "['high', 'high', '2', '4', 'med', 'low', 'unacc']\n",
      "['high', 'high', '4', 'more', 'small', 'high', 'acc']\n",
      "['high', 'high', '4', 'more', 'big', 'low', 'unacc']\n",
      "['high', 'low', '2', 'more', 'big', 'high', 'acc']\n",
      "['vhigh', 'low', '3', '2', 'med', 'med', 'unacc']\n",
      "['low', 'high', '2', '2', 'small', 'low', 'unacc']\n",
      "['med', 'med', '4', 'more', 'med', 'high', 'vgood']\n",
      "['low', 'low', '3', '2', 'big', 'med', 'unacc']\n",
      "['vhigh', 'low', '2', '2', 'small', 'low', 'unacc']\n",
      "['vhigh', 'high', '4', '4', 'med', 'low', 'unacc']\n",
      "['low', 'low', '2', '2', 'med', 'med', 'unacc']\n",
      "['vhigh', 'low', '4', 'more', 'small', 'high', 'acc']\n",
      "['high', 'low', '2', '4', 'big', 'med', 'acc']\n",
      "['low', 'vhigh', '3', 'more', 'big', 'low', 'unacc']\n",
      "['high', 'low', '5more', '2', 'big', 'med', 'unacc']\n",
      "['vhigh', 'high', '2', 'more', 'med', 'high', 'unacc']\n",
      "['med', 'med', '2', '2', 'small', 'low', 'unacc']\n",
      "['high', 'low', '5more', '4', 'med', 'high', 'acc']\n",
      "['low', 'low', '3', 'more', 'med', 'high', 'vgood']\n",
      "['low', 'low', '2', '2', 'big', 'med', 'unacc']\n",
      "['med', 'high', '4', '2', 'big', 'high', 'unacc']\n",
      "['low', 'low', '2', '2', 'small', 'high', 'unacc']\n",
      "['vhigh', 'high', '5more', '4', 'med', 'med', 'unacc']\n",
      "['med', 'vhigh', '2', '2', 'big', 'low', 'unacc']\n",
      "['low', 'vhigh', '4', '4', 'big', 'low', 'unacc']\n",
      "['vhigh', 'low', '3', 'more', 'big', 'low', 'unacc']\n",
      "['med', 'vhigh', '3', '4', 'small', 'low', 'unacc']\n",
      "['high', 'high', '3', '4', 'med', 'med', 'unacc']\n",
      "['low', 'high', '5more', '2', 'big', 'low', 'unacc']\n",
      "['med', 'high', '5more', '2', 'med', 'med', 'unacc']\n",
      "['high', 'low', '3', '4', 'med', 'high', 'acc']\n",
      "['high', 'vhigh', '5more', '4', 'med', 'med', 'unacc']\n",
      "['low', 'low', '5more', '2', 'med', 'low', 'unacc']\n",
      "['vhigh', 'vhigh', '4', '2', 'big', 'high', 'unacc']\n",
      "['high', 'low', '3', '2', 'big', 'high', 'unacc']\n"
     ]
    }
   ],
   "source": [
    "import csv \n",
    "# be sure to update the path below to reflect your own environment!! \n",
    "# also be sure that the code is properly indented after you paste it! \n",
    " \n",
    "with open('E:/Analytics Programming/cars-sample35.txt') as csvfile:\n",
    "    readCSV = csv.reader(csvfile)     \n",
    "    for row in readCSV:         \n",
    "        print(row)"
   ]
  },
  {
   "cell_type": "code",
   "execution_count": 3,
   "metadata": {},
   "outputs": [
    {
     "name": "stdout",
     "output_type": "stream",
     "text": [
      "[['high', 'high', '2', '4', 'med', 'low', 'unacc'], ['high', 'high', '4', 'more', 'small', 'high', 'acc'], ['high', 'high', '4', 'more', 'big', 'low', 'unacc'], ['high', 'low', '2', 'more', 'big', 'high', 'acc'], ['vhigh', 'low', '3', '2', 'med', 'med', 'unacc'], ['low', 'high', '2', '2', 'small', 'low', 'unacc'], ['med', 'med', '4', 'more', 'med', 'high', 'vgood'], ['low', 'low', '3', '2', 'big', 'med', 'unacc'], ['vhigh', 'low', '2', '2', 'small', 'low', 'unacc'], ['vhigh', 'high', '4', '4', 'med', 'low', 'unacc'], ['low', 'low', '2', '2', 'med', 'med', 'unacc'], ['vhigh', 'low', '4', 'more', 'small', 'high', 'acc'], ['high', 'low', '2', '4', 'big', 'med', 'acc'], ['low', 'vhigh', '3', 'more', 'big', 'low', 'unacc'], ['high', 'low', '5more', '2', 'big', 'med', 'unacc'], ['vhigh', 'high', '2', 'more', 'med', 'high', 'unacc'], ['med', 'med', '2', '2', 'small', 'low', 'unacc'], ['high', 'low', '5more', '4', 'med', 'high', 'acc'], ['low', 'low', '3', 'more', 'med', 'high', 'vgood'], ['low', 'low', '2', '2', 'big', 'med', 'unacc'], ['med', 'high', '4', '2', 'big', 'high', 'unacc'], ['low', 'low', '2', '2', 'small', 'high', 'unacc'], ['vhigh', 'high', '5more', '4', 'med', 'med', 'unacc'], ['med', 'vhigh', '2', '2', 'big', 'low', 'unacc'], ['low', 'vhigh', '4', '4', 'big', 'low', 'unacc'], ['vhigh', 'low', '3', 'more', 'big', 'low', 'unacc'], ['med', 'vhigh', '3', '4', 'small', 'low', 'unacc'], ['high', 'high', '3', '4', 'med', 'med', 'unacc'], ['low', 'high', '5more', '2', 'big', 'low', 'unacc'], ['med', 'high', '5more', '2', 'med', 'med', 'unacc'], ['high', 'low', '3', '4', 'med', 'high', 'acc'], ['high', 'vhigh', '5more', '4', 'med', 'med', 'unacc'], ['low', 'low', '5more', '2', 'med', 'low', 'unacc'], ['vhigh', 'vhigh', '4', '2', 'big', 'high', 'unacc'], ['high', 'low', '3', '2', 'big', 'high', 'unacc']]\n"
     ]
    }
   ],
   "source": [
    "#convert readCSV to a list\n",
    "\n",
    "with open('E:/Analytics Programming/cars-sample35.txt') as csvfile:\n",
    "    readCSV = csv.reader(csvfile)\n",
    "    readCSV = list(readCSV)\n",
    "    print(readCSV)"
   ]
  },
  {
   "cell_type": "code",
   "execution_count": 4,
   "metadata": {},
   "outputs": [
    {
     "name": "stdout",
     "output_type": "stream",
     "text": [
      "['high', 'high', 'high', 'high', 'vhigh', 'low', 'med', 'low', 'vhigh', 'vhigh', 'low', 'vhigh', 'high', 'low', 'high', 'vhigh', 'med', 'high', 'low', 'low', 'med', 'low', 'vhigh', 'med', 'low', 'vhigh', 'med', 'high', 'low', 'med', 'high', 'high', 'low', 'vhigh', 'high']\n",
      "['high', 'high', 'high', 'low', 'low', 'high', 'med', 'low', 'low', 'high', 'low', 'low', 'low', 'vhigh', 'low', 'high', 'med', 'low', 'low', 'low', 'high', 'low', 'high', 'vhigh', 'vhigh', 'low', 'vhigh', 'high', 'high', 'high', 'low', 'vhigh', 'low', 'vhigh', 'low']\n",
      "['2', '4', '4', '2', '3', '2', '4', '3', '2', '4', '2', '4', '2', '3', '5more', '2', '2', '5more', '3', '2', '4', '2', '5more', '2', '4', '3', '3', '3', '5more', '5more', '3', '5more', '5more', '4', '3']\n",
      "['4', 'more', 'more', 'more', '2', '2', 'more', '2', '2', '4', '2', 'more', '4', 'more', '2', 'more', '2', '4', 'more', '2', '2', '2', '4', '2', '4', 'more', '4', '4', '2', '2', '4', '4', '2', '2', '2']\n",
      "['med', 'small', 'big', 'big', 'med', 'small', 'med', 'big', 'small', 'med', 'med', 'small', 'big', 'big', 'big', 'med', 'small', 'med', 'med', 'big', 'big', 'small', 'med', 'big', 'big', 'big', 'small', 'med', 'big', 'med', 'med', 'med', 'med', 'big', 'big']\n",
      "['low', 'high', 'low', 'high', 'med', 'low', 'high', 'med', 'low', 'low', 'med', 'high', 'med', 'low', 'med', 'high', 'low', 'high', 'high', 'med', 'high', 'high', 'med', 'low', 'low', 'low', 'low', 'med', 'low', 'med', 'high', 'med', 'low', 'high', 'high']\n",
      "['unacc', 'acc', 'unacc', 'acc', 'unacc', 'unacc', 'vgood', 'unacc', 'unacc', 'unacc', 'unacc', 'acc', 'acc', 'unacc', 'unacc', 'unacc', 'unacc', 'acc', 'vgood', 'unacc', 'unacc', 'unacc', 'unacc', 'unacc', 'unacc', 'unacc', 'unacc', 'unacc', 'unacc', 'unacc', 'acc', 'unacc', 'unacc', 'unacc', 'unacc']\n"
     ]
    }
   ],
   "source": [
    "#use for loop to extract these seven attributes from each line of the list\n",
    "#create seven distinct lists\n",
    "\n",
    "Price = [each_row[0] for each_row in readCSV]\n",
    "Maintenance_cost = [each_row[1] for each_row in readCSV]\n",
    "Number_of_doors = [each_row[2] for each_row in readCSV]\n",
    "Number_of_passenger = [each_row[3] for each_row in readCSV]\n",
    "Luggage_capacity  = [each_row[4] for each_row in readCSV]\n",
    "Safety_rating  = [each_row[5] for each_row in readCSV]\n",
    "Classification_of_vehicle  = [each_row[6] for each_row in readCSV]\n",
    "\n",
    "print(Price)\n",
    "print(Maintenance_cost)\n",
    "print(Number_of_doors)\n",
    "print(Number_of_passenger)\n",
    "print(Luggage_capacity)\n",
    "print(Safety_rating)\n",
    "print(Classification_of_vehicle)"
   ]
  },
  {
   "cell_type": "code",
   "execution_count": 5,
   "metadata": {},
   "outputs": [
    {
     "name": "stdout",
     "output_type": "stream",
     "text": [
      "[6, 16, 20, 23, 26, 29]\n"
     ]
    }
   ],
   "source": [
    "#create a new list to store the index values\n",
    "#use for loop with if statement testing the value of the iterator\n",
    "#use comprehension to get the index values of each automobile\n",
    "\n",
    "ind_com = [i for i in range(len(Price)) if Price[i]=='med']\n",
    "print(ind_com)"
   ]
  },
  {
   "cell_type": "code",
   "execution_count": 6,
   "metadata": {},
   "outputs": [
    {
     "name": "stdout",
     "output_type": "stream",
     "text": [
      "['more', '2', '2', '2', '4', '2']\n"
     ]
    }
   ],
   "source": [
    "#create a new list to store the values\n",
    "#use for loop with if statement testing the value of the iterator\n",
    "#use comprehension to get the values of each paassenger\n",
    " \n",
    "passenger = [Number_of_passenger[i] for i in range(len(Price)) if Price[i]=='med']\n",
    "print(passenger)"
   ]
  },
  {
   "cell_type": "code",
   "execution_count": 7,
   "metadata": {},
   "outputs": [
    {
     "name": "stdout",
     "output_type": "stream",
     "text": [
      "[0, 1, 2, 27, 31]\n"
     ]
    }
   ],
   "source": [
    "# create a new list to store the index values\n",
    "# use for loop with if statement testing the value of the iterator\n",
    "# use comprehension to get the values of index of each paassenger\n",
    "\n",
    "auto_ind = [i for i in range(len(Price)) if Price[i]=='high' and Maintenance_cost[i] != 'low']\n",
    "print(auto_ind)"
   ]
  },
  {
   "cell_type": "code",
   "execution_count": 8,
   "metadata": {},
   "outputs": [
    {
     "name": "stdout",
     "output_type": "stream",
     "text": [
      "[1, 2, 3, 'A', 'B', 'C', 4, 5, 'D', 'E']\n"
     ]
    }
   ],
   "source": [
    "#use for loop to extract each individual element of the component of nested list \n",
    "#use comprehension to get the values\n",
    "\n",
    "nlist = [[1, 2, 3],['A','B','C'],[4, 5],['D','E']]\n",
    "flist = [y for x in nlist for y in x]\n",
    "print(flist)"
   ]
  },
  {
   "cell_type": "code",
   "execution_count": 96,
   "metadata": {},
   "outputs": [
    {
     "data": {
      "text/plain": [
       "{'A0': 'high',\n",
       " 'A1': 'high',\n",
       " 'A2': 'high',\n",
       " 'A3': 'high',\n",
       " 'A4': 'vhigh',\n",
       " 'A5': 'low',\n",
       " 'A6': 'med',\n",
       " 'A7': 'low',\n",
       " 'A8': 'vhigh',\n",
       " 'A9': 'vhigh',\n",
       " 'A10': 'low',\n",
       " 'A11': 'vhigh',\n",
       " 'A12': 'high',\n",
       " 'A13': 'low',\n",
       " 'A14': 'high',\n",
       " 'A15': 'vhigh',\n",
       " 'A16': 'med',\n",
       " 'A17': 'high',\n",
       " 'A18': 'low',\n",
       " 'A19': 'low',\n",
       " 'A20': 'med',\n",
       " 'A21': 'low',\n",
       " 'A22': 'vhigh',\n",
       " 'A23': 'med',\n",
       " 'A24': 'low',\n",
       " 'A25': 'vhigh',\n",
       " 'A26': 'med',\n",
       " 'A27': 'high',\n",
       " 'A28': 'low',\n",
       " 'A29': 'med',\n",
       " 'A30': 'high',\n",
       " 'A31': 'high',\n",
       " 'A32': 'low',\n",
       " 'A33': 'vhigh',\n",
       " 'A34': 'high'}"
      ]
     },
     "execution_count": 96,
     "metadata": {},
     "output_type": "execute_result"
    }
   ],
   "source": [
    "#create a defined function that accepts a list and an integer value and returns a Python dict object\n",
    "#create a empty dict and a list\n",
    "#use for loop and range to get the x list\n",
    "#use zip to get a list of tuples and pair up elements in the dict\n",
    "# use the function to create the new price dict\n",
    "\n",
    "def makedict(mylist,x):\n",
    "    new_dict = {}\n",
    "    x = []\n",
    "    for i in range(len(mylist)):\n",
    "        x.append('A' + str(i))\n",
    "        for key,value in zip(x, mylist):\n",
    "            new_dict[key] = value\n",
    "            new_dict = dict(zip(x, mylist))\n",
    "    return(new_dict)\n",
    "\n",
    "\n",
    "makedict(Price,x)"
   ]
  },
  {
   "cell_type": "code",
   "execution_count": 79,
   "metadata": {},
   "outputs": [
    {
     "data": {
      "text/plain": [
       "{'A0': 'med',\n",
       " 'A1': 'small',\n",
       " 'A2': 'big',\n",
       " 'A3': 'big',\n",
       " 'A4': 'med',\n",
       " 'A5': 'small',\n",
       " 'A6': 'med',\n",
       " 'A7': 'big',\n",
       " 'A8': 'small',\n",
       " 'A9': 'med',\n",
       " 'A10': 'med',\n",
       " 'A11': 'small',\n",
       " 'A12': 'big',\n",
       " 'A13': 'big',\n",
       " 'A14': 'big',\n",
       " 'A15': 'med',\n",
       " 'A16': 'small',\n",
       " 'A17': 'med',\n",
       " 'A18': 'med',\n",
       " 'A19': 'big',\n",
       " 'A20': 'big',\n",
       " 'A21': 'small',\n",
       " 'A22': 'med',\n",
       " 'A23': 'big',\n",
       " 'A24': 'big',\n",
       " 'A25': 'big',\n",
       " 'A26': 'small',\n",
       " 'A27': 'med',\n",
       " 'A28': 'big',\n",
       " 'A29': 'med',\n",
       " 'A30': 'med',\n",
       " 'A31': 'med',\n",
       " 'A32': 'med',\n",
       " 'A33': 'big',\n",
       " 'A34': 'big'}"
      ]
     },
     "execution_count": 79,
     "metadata": {},
     "output_type": "execute_result"
    }
   ],
   "source": [
    "#use the function above to create the new Luggage_capacity dict\n",
    "\n",
    "makedict(Luggage_capacity,x)"
   ]
  },
  {
   "cell_type": "code",
   "execution_count": 104,
   "metadata": {},
   "outputs": [
    {
     "name": "stdout",
     "output_type": "stream",
     "text": [
      "{'A0': 'high', 'A1': 'high', 'A2': 'high', 'A3': 'high', 'A4': 'vhigh', 'A5': 'low', 'A6': 'med'}\n"
     ]
    }
   ],
   "source": [
    "#create price_7 dict to store the first seven element in price_dict\n",
    "\n",
    "Price_7 = {}\n",
    "Price_dict = makedict(Price,x)\n",
    "for i,(key,value) in enumerate(Price_dict.items()):\n",
    "    Price_7[key] = value\n",
    "    if i == 6:\n",
    "        print(Price_7)"
   ]
  },
  {
   "cell_type": "code",
   "execution_count": 103,
   "metadata": {},
   "outputs": [
    {
     "name": "stdout",
     "output_type": "stream",
     "text": [
      "{'A0': 'high', 'A1': 'high', 'A2': 'high', 'A3': 'high', 'A4': 'vhigh', 'A5': 'low', 'A6': 'med'}\n"
     ]
    }
   ],
   "source": [
    "#create Luggage_7 dict to store the first seven element in Luggage_dict\n",
    "\n",
    "Luggage_7 = {}\n",
    "Luggage_dict = makedict(Luggage_capacity,x)\n",
    "for i,(key,value) in enumerate(Price_dict.items()):\n",
    "    Luggage_7[key] = value\n",
    "    if i == 6:\n",
    "        print(Luggage_7)"
   ]
  },
  {
   "cell_type": "code",
   "execution_count": 105,
   "metadata": {},
   "outputs": [
    {
     "name": "stdout",
     "output_type": "stream",
     "text": [
      "the Price of \"A4\": vhigh\n",
      "the Luggage capacity of \"A4\": vhigh\n"
     ]
    }
   ],
   "source": [
    "#extract the price and luggage capacity of A4’ key value\n",
    "print('the Price of \"A4\":', Price_7['A4'])\n",
    "print('the Luggage capacity of \"A4\":', Luggage_7['A4'])"
   ]
  },
  {
   "cell_type": "code",
   "execution_count": null,
   "metadata": {},
   "outputs": [],
   "source": []
  }
 ],
 "metadata": {
  "kernelspec": {
   "display_name": "Python 3",
   "language": "python",
   "name": "python3"
  },
  "language_info": {
   "codemirror_mode": {
    "name": "ipython",
    "version": 3
   },
   "file_extension": ".py",
   "mimetype": "text/x-python",
   "name": "python",
   "nbconvert_exporter": "python",
   "pygments_lexer": "ipython3",
   "version": "3.7.3"
  }
 },
 "nbformat": 4,
 "nbformat_minor": 2
}
